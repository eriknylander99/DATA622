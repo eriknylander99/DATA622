{
 "cells": [
  {
   "cell_type": "markdown",
   "metadata": {},
   "source": [
    "# Kaggel Emotion Detection Code\n",
    "## DATA622 - Machine Learning and Big Data\n",
    "## Erik Nylander"
   ]
  },
  {
   "cell_type": "markdown",
   "metadata": {},
   "source": [
    "For the Kaggle Competion project I ran the model as normal but at the end of training I saved out the model in JSON format and saved the model weights. These are then loaded by the following code and used to make predictions on the test set. In the training of the original model I used images that are 64x64 pixels in size so I reshaped the test images to match these. I also needed to convert the images to greyscale to match the original model. Code for the Convolutional Neural Network that was used to classify the data can be found [here](https://github.com/eriknylander99/DATA622/blob/master/emotion_detection/emd_aug_cnn.py). "
   ]
  },
  {
   "cell_type": "code",
   "execution_count": 1,
   "metadata": {
    "collapsed": false
   },
   "outputs": [
    {
     "name": "stderr",
     "output_type": "stream",
     "text": [
      "Using Theano backend.\n"
     ]
    }
   ],
   "source": [
    "# Loading the required packages\n",
    "import cv2\n",
    "import os\n",
    "import numpy as np\n",
    "import pandas as pd\n",
    "from keras.models import load_model\n",
    "from keras.models import model_from_json\n",
    "from PIL import Image\n",
    "from keras import backend as K\n",
    "from keras.optimizers import RMSprop\n",
    "K.set_image_dim_ordering('th')"
   ]
  },
  {
   "cell_type": "markdown",
   "metadata": {},
   "source": [
    "### Loading and Compiling the Saved Model"
   ]
  },
  {
   "cell_type": "code",
   "execution_count": 2,
   "metadata": {
    "collapsed": false
   },
   "outputs": [
    {
     "name": "stdout",
     "output_type": "stream",
     "text": [
      "Loaded model from disk\n",
      "Loaded model weights from disk\n",
      "Compiled Model\n"
     ]
    }
   ],
   "source": [
    "# load the saved model in json format\n",
    "json_file = open('d:/erik/documents/github/mlprojects/model/aug_model.json', 'r')\n",
    "loaded_model_json = json_file.read()\n",
    "json_file.close()\n",
    "loaded_model = model_from_json(loaded_model_json)\n",
    "print(\"Loaded model from disk\")\n",
    "\n",
    "# load the saved weights into the loaded model\n",
    "loaded_model.load_weights('d:/erik/documents/github/mlprojects/model/aug_flow.h5')\n",
    "print(\"Loaded model weights from disk\")\n",
    " \n",
    "# compiling the loaded model with the weights\n",
    "rms = RMSprop(lr=0.001, rho=0.9, epsilon=1e-08, decay=0.0)\n",
    "loaded_model.compile(loss='binary_crossentropy', optimizer=rms, metrics=['accuracy'])\n",
    "print(\"Compiled Model\")"
   ]
  },
  {
   "cell_type": "markdown",
   "metadata": {},
   "source": [
    "### Loading the Data for the Kaggle Competition"
   ]
  },
  {
   "cell_type": "code",
   "execution_count": 3,
   "metadata": {
    "collapsed": true
   },
   "outputs": [],
   "source": [
    "# Loads the test images for the kaggle competition.\n",
    "loc = 'd:/erik/documents/github/facial_expressions/test/'\n",
    "img_names = os.listdir(loc)\n",
    "x_test = []\n",
    "actual = 0\n",
    "for i in img_names:\n",
    "    img = Image.open(loc + i).resize((64, 64))\n",
    "    img = img.convert('L')\n",
    "    img_arr = list(img.getdata())\n",
    "    img_matrix = np.array(img_arr).reshape(1, 64, 64)   ## im has 3 layers\n",
    "\n",
    "    x_test.append(img_matrix)\n",
    "    actual += 1\n",
    "\n",
    "x_test = np.reshape(x_test, (actual, 1 , 64, 64))\n",
    "\n",
    "x_test = x_test.astype('float32')\n",
    "x_test /= 255"
   ]
  },
  {
   "cell_type": "code",
   "execution_count": 4,
   "metadata": {
    "collapsed": false
   },
   "outputs": [
    {
     "data": {
      "text/plain": [
       "263"
      ]
     },
     "execution_count": 4,
     "metadata": {},
     "output_type": "execute_result"
    }
   ],
   "source": [
    "# We have all 263 images.\n",
    "len(x_test)"
   ]
  },
  {
   "cell_type": "markdown",
   "metadata": {},
   "source": [
    "### Predicting the Classes and Probabilities for the Test Data"
   ]
  },
  {
   "cell_type": "code",
   "execution_count": 6,
   "metadata": {
    "collapsed": false
   },
   "outputs": [
    {
     "name": "stdout",
     "output_type": "stream",
     "text": [
      "256/263 [============================>.] - ETA: 0s"
     ]
    }
   ],
   "source": [
    "# Predicting the classses and probabilites for the test set\n",
    "classes = loaded_model.predict_classes(x_test)\n",
    "probs = loaded_model.predict_proba(x_test)"
   ]
  },
  {
   "cell_type": "markdown",
   "metadata": {},
   "source": [
    "### Labeling the Classes for Each of the Images"
   ]
  },
  {
   "cell_type": "code",
   "execution_count": 10,
   "metadata": {
    "collapsed": false
   },
   "outputs": [],
   "source": [
    "# Create a dictionary of the classes to be used in labeling each image.\n",
    "emotions = ['neutral', 'anger', 'surprise', 'sadness', 'happiness', 'contempt', 'disgust', 'fear']\n",
    "i_emotions = [0,1,2,3,4,5,6,7]\n",
    "e = dict(zip(i_emotions, emotions))"
   ]
  },
  {
   "cell_type": "code",
   "execution_count": 11,
   "metadata": {
    "collapsed": false
   },
   "outputs": [],
   "source": [
    "# Create the emotion label and the probability for each label. We only return the highest probability label.\n",
    "emotion = []\n",
    "probability = []\n",
    "for i in range(len(classes)):\n",
    "    emotion.append(e[classes[i]])\n",
    "    probability.append(probs[i][classes[i]])"
   ]
  },
  {
   "cell_type": "markdown",
   "metadata": {},
   "source": [
    "### Creating a DataFrame to Contain the Predictions"
   ]
  },
  {
   "cell_type": "code",
   "execution_count": 12,
   "metadata": {
    "collapsed": false
   },
   "outputs": [],
   "source": [
    "# Creates a dataframe with images, emotions, class numbers, and probabilites.\n",
    "data = {'Image' : img_names,\n",
    "        'Emotion' : emotion,\n",
    "        'Class' : classes, \n",
    "        'Probability' : probability}\n",
    "test = pd.DataFrame(data, columns = ['Image', 'Emotion', 'Class', 'Probability'])"
   ]
  },
  {
   "cell_type": "code",
   "execution_count": 13,
   "metadata": {
    "collapsed": false
   },
   "outputs": [
    {
     "data": {
      "text/html": [
       "<div>\n",
       "<table border=\"1\" class=\"dataframe\">\n",
       "  <thead>\n",
       "    <tr style=\"text-align: right;\">\n",
       "      <th></th>\n",
       "      <th>Image</th>\n",
       "      <th>Emotion</th>\n",
       "      <th>Class</th>\n",
       "      <th>Probability</th>\n",
       "    </tr>\n",
       "  </thead>\n",
       "  <tbody>\n",
       "    <tr>\n",
       "      <th>0</th>\n",
       "      <td>108a.jpg</td>\n",
       "      <td>neutral</td>\n",
       "      <td>0</td>\n",
       "      <td>0.336228</td>\n",
       "    </tr>\n",
       "    <tr>\n",
       "      <th>1</th>\n",
       "      <td>110b.jpg</td>\n",
       "      <td>happiness</td>\n",
       "      <td>4</td>\n",
       "      <td>0.716391</td>\n",
       "    </tr>\n",
       "    <tr>\n",
       "      <th>2</th>\n",
       "      <td>118a.jpg</td>\n",
       "      <td>happiness</td>\n",
       "      <td>4</td>\n",
       "      <td>0.673479</td>\n",
       "    </tr>\n",
       "    <tr>\n",
       "      <th>3</th>\n",
       "      <td>119a.jpg</td>\n",
       "      <td>happiness</td>\n",
       "      <td>4</td>\n",
       "      <td>0.456203</td>\n",
       "    </tr>\n",
       "    <tr>\n",
       "      <th>4</th>\n",
       "      <td>11a.jpg</td>\n",
       "      <td>happiness</td>\n",
       "      <td>4</td>\n",
       "      <td>0.452810</td>\n",
       "    </tr>\n",
       "  </tbody>\n",
       "</table>\n",
       "</div>"
      ],
      "text/plain": [
       "      Image    Emotion  Class  Probability\n",
       "0  108a.jpg    neutral      0     0.336228\n",
       "1  110b.jpg  happiness      4     0.716391\n",
       "2  118a.jpg  happiness      4     0.673479\n",
       "3  119a.jpg  happiness      4     0.456203\n",
       "4   11a.jpg  happiness      4     0.452810"
      ]
     },
     "execution_count": 13,
     "metadata": {},
     "output_type": "execute_result"
    }
   ],
   "source": [
    "test.head()"
   ]
  },
  {
   "cell_type": "markdown",
   "metadata": {},
   "source": [
    "### Writing the Predictions to a CSV File for Submission"
   ]
  },
  {
   "cell_type": "code",
   "execution_count": 14,
   "metadata": {
    "collapsed": false
   },
   "outputs": [],
   "source": [
    "test.to_csv('d:/erik/documents/github/mlprojects/model/kaggle3_en.csv', \n",
    "            index = False, columns = ['Image', 'Emotion'])"
   ]
  },
  {
   "cell_type": "code",
   "execution_count": null,
   "metadata": {
    "collapsed": true
   },
   "outputs": [],
   "source": []
  }
 ],
 "metadata": {
  "anaconda-cloud": {},
  "kernelspec": {
   "display_name": "Python [conda root]",
   "language": "python",
   "name": "conda-root-py"
  },
  "language_info": {
   "codemirror_mode": {
    "name": "ipython",
    "version": 2
   },
   "file_extension": ".py",
   "mimetype": "text/x-python",
   "name": "python",
   "nbconvert_exporter": "python",
   "pygments_lexer": "ipython2",
   "version": "2.7.12"
  }
 },
 "nbformat": 4,
 "nbformat_minor": 1
}
